{
 "cells": [
  {
   "cell_type": "markdown",
   "id": "c3951f86",
   "metadata": {},
   "source": [
    "# Fundamentos de Spark y Python — Laboratorio con DataFrames (Walmart Stock)"
   ]
  },
  {
   "cell_type": "markdown",
   "id": "1ab1a7a1",
   "metadata": {},
   "source": [
    "**Curso:** Data Science Sección 20\n",
    "\n",
    "**Duración estimada:** 1.5–2.5 horas\n",
    "\n",
    "**Modalidad:** Individual (colaboración para dudas conceptuales permitida, entrega individual)"
   ]
  },
  {
   "cell_type": "markdown",
   "id": "6b55db2a",
   "metadata": {},
   "source": [
    "## Objetivos de aprendizaje\n",
    "Al finalizar, podrá:\n",
    "1. Iniciar una **SparkSession** y trabajar con **PySpark DataFrames**.\n",
    "2. **Cargar** un CSV con encabezados e inferencia de tipos.\n",
    "3. Explorar estructura: **columnas**, **esquema** y **muestras**.\n",
    "4. Ejecutar **descriptivos** y agregaciones.\n",
    "5. Aplicar **filtros**, **transformaciones** y **creación de columnas**.\n",
    "6. Calcular medidas estadísticas (p. ej., **correlación de Pearson**).\n",
    "7. Realizar consultas **temporales** (día con máximo precio; máximos por año).\n",
    "8. Comunicar hallazgos de forma ordenada y reproducible.\n"
   ]
  },
  {
   "cell_type": "markdown",
   "id": "6074eb1e",
   "metadata": {},
   "source": [
    "## Datos\n",
    "- **Archivo:** `walmart_stock.csv`\n",
    "- **Periodo:** 2012–2017\n",
    "- **Columnas típicas:** `Date`, `Open`, `High`, `Low`, `Close`, `Volume`, `Adj Close`\n",
    "\n",
    "> *Nota:* No modifique el CSV; todas las transformaciones se realizan en el notebook.\n"
   ]
  },
  {
   "cell_type": "markdown",
   "id": "88fc0d3f",
   "metadata": {},
   "source": [
    "## Requisitos previos\n",
    "- Python 3.9+ (o entorno equivalente en **Google Colab**)\n",
    "- **Apache Spark 3.x** con PySpark (o `pyspark` preinstalado en Colab)\n",
    "- Conocimientos básicos de: tipos de datos, funciones de agregación, y uso de notebooks.\n"
   ]
  },
  {
   "cell_type": "markdown",
   "id": "cdc20a97",
   "metadata": {},
   "source": [
    "## Entregables\n",
    "1. **Notebook ejecutado** (`.ipynb`) con todas las celdas y salidas visibles.\n",
    "2. **Conclusiones breves** (5–10 líneas) al final del notebook con interpretaciones clave.\n",
    "3. Código **comentado** y ordenado.\n",
    "\n",
    "**Formato de entrega:** Subir `.ipynb` .\n"
   ]
  },
  {
   "cell_type": "markdown",
   "id": "081cb891",
   "metadata": {},
   "source": [
    "## 1) Configuración del entorno\n",
    "**Opción A — Local:**\n",
    "```python\n",
    "from pyspark.sql import SparkSession\n",
    "spark = SparkSession.builder \\\n",
    "    .appName(\"Lab Spark DF — Walmart\") \\\n",
    "    .getOrCreate()\n",
    "print(\"Spark version:\", spark.version)\n",
    "```\n",
    "\n",
    "**Opción B — Colab (sugerida si no tiene Spark local):**\n",
    "```python\n",
    "!pip -q install pyspark\n",
    "from pyspark.sql import SparkSession\n",
    "spark = SparkSession.builder.appName(\"Lab Spark DF — Walmart\").getOrCreate()\n",
    "print(\"Spark version:\", spark.version)\n",
    "```\n"
   ]
  },
  {
   "cell_type": "markdown",
   "id": "393768ea",
   "metadata": {},
   "source": [
    "## 2) Tareas (complete en orden y deje **toda** la evidencia en el notebook)"
   ]
  },
  {
   "cell_type": "markdown",
   "id": "bb4eb815",
   "metadata": {},
   "source": [
    "### 2.1 Inicie una sesión de Spark (si no está iniciada)"
   ]
  },
  {
   "cell_type": "code",
   "execution_count": null,
   "id": "92570384-193d-414b-abe1-b40b6845956c",
   "metadata": {},
   "outputs": [],
   "source": []
  },
  {
   "cell_type": "markdown",
   "id": "8fd667b2",
   "metadata": {},
   "source": [
    "### 2.2 Cargue el archivo CSV"
   ]
  },
  {
   "cell_type": "code",
   "execution_count": null,
   "id": "57661cba-c17e-4027-8981-641611063cf3",
   "metadata": {},
   "outputs": [],
   "source": []
  },
  {
   "cell_type": "markdown",
   "id": "7d770e5e",
   "metadata": {},
   "source": [
    "### 2.3 ¿Cuáles son los nombres de las columnas?"
   ]
  },
  {
   "cell_type": "code",
   "execution_count": null,
   "id": "7285e8b5-265c-4a4c-9607-dd13ae2726cc",
   "metadata": {},
   "outputs": [],
   "source": []
  },
  {
   "cell_type": "markdown",
   "id": "b664b5e3",
   "metadata": {},
   "source": [
    "### 2.4 Muestre el **esquema** de los datos"
   ]
  },
  {
   "cell_type": "code",
   "execution_count": null,
   "id": "65bdf922-908e-4f24-b0ac-91527ec1a3f8",
   "metadata": {},
   "outputs": [],
   "source": []
  },
  {
   "cell_type": "markdown",
   "id": "c0e1d127",
   "metadata": {},
   "source": [
    "### 2.5 Muestre las **primeras 5 filas**"
   ]
  },
  {
   "cell_type": "code",
   "execution_count": null,
   "id": "37f3c68d-2831-416d-9d07-c27b58d631f6",
   "metadata": {},
   "outputs": [],
   "source": []
  },
  {
   "cell_type": "markdown",
   "id": "1ca28ee8",
   "metadata": {},
   "source": [
    "### 2.6 Descriptivos con `describe()` + interpretación"
   ]
  },
  {
   "cell_type": "code",
   "execution_count": null,
   "id": "425a9a12-2d3b-4fdf-856f-5de06cb7adc0",
   "metadata": {},
   "outputs": [],
   "source": []
  },
  {
   "cell_type": "markdown",
   "id": "2a4d9e2d",
   "metadata": {},
   "source": [
    "*(Escriba aquí sus interpretaciones de al menos dos métricas de `describe()`)*"
   ]
  },
  {
   "cell_type": "code",
   "execution_count": null,
   "id": "c527f08c-ab92-45ee-a80c-c16cf88887eb",
   "metadata": {},
   "outputs": [],
   "source": []
  },
  {
   "cell_type": "markdown",
   "id": "311e3d2e",
   "metadata": {},
   "source": [
    "### 2.7 Máximo y mínimo de `Volume`"
   ]
  },
  {
   "cell_type": "code",
   "execution_count": null,
   "id": "9d73db8b",
   "metadata": {},
   "outputs": [],
   "source": []
  },
  {
   "cell_type": "markdown",
   "id": "ddb1bdcf",
   "metadata": {},
   "source": [
    "### 2.8 ¿Cuántos días tuvieron `Close < 60`?"
   ]
  },
  {
   "cell_type": "code",
   "execution_count": null,
   "id": "72a4eafe",
   "metadata": {},
   "outputs": [],
   "source": []
  },
  {
   "cell_type": "markdown",
   "id": "47a4df27",
   "metadata": {},
   "source": [
    "### 2.9 Crée la columna `Tasa_HV = High/Volume`"
   ]
  },
  {
   "cell_type": "code",
   "execution_count": null,
   "id": "0829902a",
   "metadata": {},
   "outputs": [],
   "source": []
  },
  {
   "cell_type": "markdown",
   "id": "91d90513",
   "metadata": {},
   "source": [
    "### 2.10 ¿Qué porcentaje del tiempo `High > 80`?"
   ]
  },
  {
   "cell_type": "code",
   "execution_count": null,
   "id": "69b5e558",
   "metadata": {},
   "outputs": [],
   "source": []
  },
  {
   "cell_type": "markdown",
   "id": "f57ee1dd",
   "metadata": {},
   "source": [
    "### 2.11 Correlación de Pearson entre `High` y `Volume` + interpretación"
   ]
  },
  {
   "cell_type": "code",
   "execution_count": null,
   "id": "84a5c76a",
   "metadata": {},
   "outputs": [],
   "source": []
  },
  {
   "cell_type": "markdown",
   "id": "fad6d42b",
   "metadata": {},
   "source": [
    "*(Escriba aquí una interpretación breve del signo y magnitud de la correlación)*"
   ]
  },
  {
   "cell_type": "markdown",
   "id": "978e6d94",
   "metadata": {},
   "source": [
    "### 2.12 ¿Qué día tuvo el **precio más alto** (`High`)? Devuelva la fila completa"
   ]
  },
  {
   "cell_type": "code",
   "execution_count": null,
   "id": "bb8a8ed6",
   "metadata": {},
   "outputs": [],
   "source": []
  },
  {
   "cell_type": "markdown",
   "id": "61337e44",
   "metadata": {},
   "source": [
    "### 2.13 **Media** de la columna `Close`"
   ]
  },
  {
   "cell_type": "code",
   "execution_count": null,
   "id": "d9bb18c3",
   "metadata": {},
   "outputs": [],
   "source": []
  },
  {
   "cell_type": "markdown",
   "id": "1eaa741f",
   "metadata": {},
   "source": [
    "### 2.14 **Máximo `High` por año**"
   ]
  },
  {
   "cell_type": "code",
   "execution_count": null,
   "id": "ab7e4ce6",
   "metadata": {},
   "outputs": [],
   "source": []
  },
  {
   "cell_type": "markdown",
   "id": "846fa50f",
   "metadata": {},
   "source": [
    "## 3) Conclusiones (5–10 líneas)"
   ]
  },
  {
   "cell_type": "markdown",
   "id": "fcdad48c",
   "metadata": {},
   "source": [
    "*Escriba aquí sus principales hallazgos e interpretaciones.*"
   ]
  },
  {
   "cell_type": "markdown",
   "id": "ca4963c8",
   "metadata": {},
   "source": [
    "## Buenas prácticas\n",
    "- Comente bloques no triviales.\n",
    "- Nombres de variables **claros** (`df_prices`, `max_high_year`, etc.).\n",
    "- Reutilice resultados intermedios para evitar recalcular.\n",
    "- Si usa Colab, fije versiones cuando sea necesario.\n",
    "- Cierre la sesión de Spark al final si corre local: `spark.stop()`.\n"
   ]
  },
  {
   "cell_type": "markdown",
   "id": "5663a977",
   "metadata": {},
   "source": [
    "## Errores comunes\n",
    "- Olvidar `inferSchema=True` → todo se carga como `string`.\n",
    "- Mezclar API RDD con DataFrames sin necesidad.\n",
    "- Usar funciones de Python puras en `withColumn` (use `pyspark.sql.functions`).\n",
    "- Intentar graficar DataFrames de Spark directamente: primero **convierta** a Pandas con `.toPandas()` en subconjuntos pequeños.\n"
   ]
  },
  {
   "cell_type": "markdown",
   "id": "0d651d75",
   "metadata": {},
   "source": [
    "## Rúbrica de evaluación (100 puntos)\n",
    "**A. Preparación del ambiente** (10 pts)\n",
    "- (10) SparkSession creada sin errores; versiones y entorno claros.\n",
    "\n",
    "**B. Carga y documentación de datos** (15 pts)\n",
    "- (8) CSV cargado con `header` y `inferSchema` correctos.\n",
    "- (7) Comentarios breves sobre las columnas y supuestos.\n",
    "\n",
    "**C. Exploración básica** (10 pts)\n",
    "- (4) Lista de columnas.\n",
    "- (3) `printSchema()` bien interpretado.\n",
    "- (3) `show(5)` con observaciones puntuales.\n",
    "\n",
    "**D. Descriptivos** (10 pts)\n",
    "- (6) `describe()` ejecutado y leído correctamente.\n",
    "- (4) Al menos 2 interpretaciones numéricas.\n",
    "\n",
    "**E. Agregaciones y filtros** (10 pts)\n",
    "- (5) Máx./mín. de `Volume` correctos.\n",
    "- (5) Conteo de días con `Close < 60` correcto.\n",
    "\n",
    "**F. Ingeniería de características** (10 pts)\n",
    "- (8) Columna `Tasa_HV = High/Volume` correcta y con tipo numérico.\n",
    "- (2) Justificación breve del indicador.\n",
    "\n",
    "**G. Métricas estadísticas** (10 pts)\n",
    "- (7) Correlación `High`–`Volume` calculada.\n",
    "- (3) Interpretación del valor (signo y magnitud).\n",
    "\n",
    "**H. Consultas temporales** (10 pts)\n",
    "- (5) Día con `High` máximo identificado.\n",
    "- (5) Máximo `High` por año con agrupación y orden correctos.\n",
    "\n",
    "**I. Comunicación de resultados** (10 pts)\n",
    "- (6) Conclusiones finales claras y concisas (5–10 líneas).\n",
    "- (4) Orden, legibilidad y limpieza del notebook.\n",
    "\n",
    "**J. Estilo y calidad de código** (5 pts)\n",
    "- (5) Convenciones PEP8 razonables, nombres significativos y ausencia de código muerto.\n",
    "\n",
    "> **Total: 100 puntos**\n"
   ]
  },
  {
   "cell_type": "code",
   "execution_count": null,
   "id": "3a9c20de-edea-4fec-9e34-af294fd22482",
   "metadata": {},
   "outputs": [],
   "source": []
  }
 ],
 "metadata": {
  "kernelspec": {
   "display_name": "Python (spark)",
   "language": "python",
   "name": "spark"
  },
  "language_info": {
   "codemirror_mode": {
    "name": "ipython",
    "version": 3
   },
   "file_extension": ".py",
   "mimetype": "text/x-python",
   "name": "python",
   "nbconvert_exporter": "python",
   "pygments_lexer": "ipython3",
   "version": "3.12.5"
  }
 },
 "nbformat": 4,
 "nbformat_minor": 5
}
