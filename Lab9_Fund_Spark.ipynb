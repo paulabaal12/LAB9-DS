{
  "cells": [
    {
      "cell_type": "markdown",
      "id": "c3951f86",
      "metadata": {
        "id": "c3951f86"
      },
      "source": [
        "# Fundamentos de Spark y Python — Laboratorio con DataFrames (Walmart Stock)"
      ]
    },
    {
      "cell_type": "markdown",
      "id": "1ab1a7a1",
      "metadata": {
        "id": "1ab1a7a1"
      },
      "source": [
        "**Curso:** Data Science Sección 20\n",
        "\n",
        "**Duración estimada:** 1.5–2.5 horas\n",
        "\n",
        "**Modalidad:** Individual (colaboración para dudas conceptuales permitida, entrega individual)"
      ]
    },
    {
      "cell_type": "markdown",
      "id": "6b55db2a",
      "metadata": {
        "id": "6b55db2a"
      },
      "source": [
        "## Objetivos de aprendizaje\n",
        "Al finalizar, podrá:\n",
        "1. Iniciar una **SparkSession** y trabajar con **PySpark DataFrames**.\n",
        "2. **Cargar** un CSV con encabezados e inferencia de tipos.\n",
        "3. Explorar estructura: **columnas**, **esquema** y **muestras**.\n",
        "4. Ejecutar **descriptivos** y agregaciones.\n",
        "5. Aplicar **filtros**, **transformaciones** y **creación de columnas**.\n",
        "6. Calcular medidas estadísticas (p. ej., **correlación de Pearson**).\n",
        "7. Realizar consultas **temporales** (día con máximo precio; máximos por año).\n",
        "8. Comunicar hallazgos de forma ordenada y reproducible.\n"
      ]
    },
    {
      "cell_type": "markdown",
      "id": "6074eb1e",
      "metadata": {
        "id": "6074eb1e"
      },
      "source": [
        "## Datos\n",
        "- **Archivo:** `walmart_stock.csv`\n",
        "- **Periodo:** 2012–2017\n",
        "- **Columnas típicas:** `Date`, `Open`, `High`, `Low`, `Close`, `Volume`, `Adj Close`\n",
        "\n",
        "> *Nota:* No modifique el CSV; todas las transformaciones se realizan en el notebook.\n"
      ]
    },
    {
      "cell_type": "markdown",
      "id": "88fc0d3f",
      "metadata": {
        "id": "88fc0d3f"
      },
      "source": [
        "## Requisitos previos\n",
        "- Python 3.9+ (o entorno equivalente en **Google Colab**)\n",
        "- **Apache Spark 3.x** con PySpark (o `pyspark` preinstalado en Colab)\n",
        "- Conocimientos básicos de: tipos de datos, funciones de agregación, y uso de notebooks.\n"
      ]
    },
    {
      "cell_type": "markdown",
      "id": "cdc20a97",
      "metadata": {
        "id": "cdc20a97"
      },
      "source": [
        "## Entregables\n",
        "1. **Notebook ejecutado** (`.ipynb`) con todas las celdas y salidas visibles.\n",
        "2. **Conclusiones breves** (5–10 líneas) al final del notebook con interpretaciones clave.\n",
        "3. Código **comentado** y ordenado.\n",
        "\n",
        "**Formato de entrega:** Subir `.ipynb` .\n"
      ]
    },
    {
      "cell_type": "markdown",
      "id": "081cb891",
      "metadata": {
        "id": "081cb891"
      },
      "source": [
        "## 1) Configuración del entorno\n",
        "**Opción A — Local:**\n",
        "```python\n",
        "from pyspark.sql import SparkSession\n",
        "spark = SparkSession.builder \\\n",
        "    .appName(\"Lab Spark DF — Walmart\") \\\n",
        "    .getOrCreate()\n",
        "print(\"Spark version:\", spark.version)\n",
        "```\n",
        "\n",
        "**Opción B — Colab (sugerida si no tiene Spark local):**\n",
        "```python\n",
        "!pip -q install pyspark\n",
        "from pyspark.sql import SparkSession\n",
        "spark = SparkSession.builder.appName(\"Lab Spark DF — Walmart\").getOrCreate()\n",
        "print(\"Spark version:\", spark.version)\n",
        "```\n"
      ]
    },
    {
      "cell_type": "markdown",
      "id": "393768ea",
      "metadata": {
        "id": "393768ea"
      },
      "source": [
        "## 2) Tareas (complete en orden y deje **toda** la evidencia en el notebook)"
      ]
    },
    {
      "cell_type": "markdown",
      "id": "bb4eb815",
      "metadata": {
        "id": "bb4eb815"
      },
      "source": [
        "### 2.1 Inicie una sesión de Spark (si no está iniciada)"
      ]
    },
    {
      "cell_type": "code",
      "execution_count": 1,
      "id": "92570384-193d-414b-abe1-b40b6845956c",
      "metadata": {
        "id": "92570384-193d-414b-abe1-b40b6845956c",
        "outputId": "4b05330a-7326-45a9-ead2-c581e9d7ab34",
        "colab": {
          "base_uri": "https://localhost:8080/"
        }
      },
      "outputs": [
        {
          "output_type": "stream",
          "name": "stdout",
          "text": [
            "Spark version: 3.5.1\n"
          ]
        }
      ],
      "source": [
        "!pip -q install pyspark\n",
        "from pyspark.sql import SparkSession\n",
        "spark = SparkSession.builder.appName(\"Lab Spark DF — Walmart\").getOrCreate()\n",
        "print(\"Spark version:\", spark.version)"
      ]
    },
    {
      "cell_type": "markdown",
      "id": "8fd667b2",
      "metadata": {
        "id": "8fd667b2"
      },
      "source": [
        "### 2.2 Cargue el archivo CSV"
      ]
    },
    {
      "cell_type": "code",
      "execution_count": 2,
      "id": "57661cba-c17e-4027-8981-641611063cf3",
      "metadata": {
        "id": "57661cba-c17e-4027-8981-641611063cf3"
      },
      "outputs": [],
      "source": [
        "df = spark.read.csv('walmart_stock.csv', header=True, inferSchema=True)"
      ]
    },
    {
      "cell_type": "markdown",
      "id": "7d770e5e",
      "metadata": {
        "id": "7d770e5e"
      },
      "source": [
        "### 2.3 ¿Cuáles son los nombres de las columnas?"
      ]
    },
    {
      "cell_type": "code",
      "execution_count": 3,
      "id": "7285e8b5-265c-4a4c-9607-dd13ae2726cc",
      "metadata": {
        "id": "7285e8b5-265c-4a4c-9607-dd13ae2726cc",
        "outputId": "3c62153b-1df6-493e-defa-cebe1affab1f",
        "colab": {
          "base_uri": "https://localhost:8080/"
        }
      },
      "outputs": [
        {
          "output_type": "stream",
          "name": "stdout",
          "text": [
            "['Date', 'Open', 'High', 'Low', 'Close', 'Volume', 'Adj Close']\n"
          ]
        }
      ],
      "source": [
        "print(df.columns)"
      ]
    },
    {
      "cell_type": "markdown",
      "id": "b664b5e3",
      "metadata": {
        "id": "b664b5e3"
      },
      "source": [
        "### 2.4 Muestre el **esquema** de los datos"
      ]
    },
    {
      "cell_type": "code",
      "execution_count": 4,
      "id": "65bdf922-908e-4f24-b0ac-91527ec1a3f8",
      "metadata": {
        "id": "65bdf922-908e-4f24-b0ac-91527ec1a3f8",
        "outputId": "000d8db1-1a48-440e-b3c5-ae28f49887aa",
        "colab": {
          "base_uri": "https://localhost:8080/"
        }
      },
      "outputs": [
        {
          "output_type": "stream",
          "name": "stdout",
          "text": [
            "root\n",
            " |-- Date: date (nullable = true)\n",
            " |-- Open: double (nullable = true)\n",
            " |-- High: double (nullable = true)\n",
            " |-- Low: double (nullable = true)\n",
            " |-- Close: double (nullable = true)\n",
            " |-- Volume: integer (nullable = true)\n",
            " |-- Adj Close: double (nullable = true)\n",
            "\n"
          ]
        }
      ],
      "source": [
        "df.printSchema()"
      ]
    },
    {
      "cell_type": "markdown",
      "id": "c0e1d127",
      "metadata": {
        "id": "c0e1d127"
      },
      "source": [
        "### 2.5 Muestre las **primeras 5 filas**"
      ]
    },
    {
      "cell_type": "code",
      "execution_count": 5,
      "id": "37f3c68d-2831-416d-9d07-c27b58d631f6",
      "metadata": {
        "id": "37f3c68d-2831-416d-9d07-c27b58d631f6",
        "outputId": "61706b16-b295-4011-944c-a95b9d039cf0",
        "colab": {
          "base_uri": "https://localhost:8080/"
        }
      },
      "outputs": [
        {
          "output_type": "stream",
          "name": "stdout",
          "text": [
            "+----------+------------------+---------+---------+------------------+--------+------------------+\n",
            "|      Date|              Open|     High|      Low|             Close|  Volume|         Adj Close|\n",
            "+----------+------------------+---------+---------+------------------+--------+------------------+\n",
            "|2012-01-03|         59.970001|61.060001|59.869999|         60.330002|12668800|52.619234999999996|\n",
            "|2012-01-04|60.209998999999996|60.349998|59.470001|59.709998999999996| 9593300|         52.078475|\n",
            "|2012-01-05|         59.349998|59.619999|58.369999|         59.419998|12768200|         51.825539|\n",
            "|2012-01-06|         59.419998|59.450001|58.869999|              59.0| 8069400|          51.45922|\n",
            "|2012-01-09|         59.029999|59.549999|58.919998|             59.18| 6679300|51.616215000000004|\n",
            "+----------+------------------+---------+---------+------------------+--------+------------------+\n",
            "only showing top 5 rows\n",
            "\n"
          ]
        }
      ],
      "source": [
        "df.show(5)"
      ]
    },
    {
      "cell_type": "markdown",
      "id": "1ca28ee8",
      "metadata": {
        "id": "1ca28ee8"
      },
      "source": [
        "### 2.6 Descriptivos con `describe()` + interpretación"
      ]
    },
    {
      "cell_type": "code",
      "execution_count": 6,
      "id": "94f1eb6a",
      "metadata": {
        "id": "94f1eb6a",
        "outputId": "d765bff1-6bcb-49a1-de9e-115e800ba6ce",
        "colab": {
          "base_uri": "https://localhost:8080/"
        }
      },
      "outputs": [
        {
          "output_type": "stream",
          "name": "stdout",
          "text": [
            "+-------+------------------+-----------------+-----------------+-----------------+-----------------+-----------------+\n",
            "|summary|              Open|             High|              Low|            Close|           Volume|        Adj Close|\n",
            "+-------+------------------+-----------------+-----------------+-----------------+-----------------+-----------------+\n",
            "|  count|              1258|             1258|             1258|             1258|             1258|             1258|\n",
            "|   mean| 72.35785375357709|72.83938807631165| 71.9186009594594|72.38844998012726|8222093.481717011|67.23883848728146|\n",
            "| stddev|  6.76809024470826|6.768186808159218|6.744075756255496|6.756859163732991|  4519780.8431556|6.722609449996857|\n",
            "|    min|56.389998999999996|        57.060001|        56.299999|        56.419998|          2094900|        50.363689|\n",
            "|    max|         90.800003|        90.970001|            89.25|        90.470001|         80898100|84.91421600000001|\n",
            "+-------+------------------+-----------------+-----------------+-----------------+-----------------+-----------------+\n",
            "\n"
          ]
        }
      ],
      "source": [
        "df.describe().show()"
      ]
    },
    {
      "cell_type": "markdown",
      "id": "2a4d9e2d",
      "metadata": {
        "id": "2a4d9e2d"
      },
      "source": [
        "*(Escriba aquí sus interpretaciones de al menos dos métricas de `describe()`)*"
      ]
    },
    {
      "cell_type": "code",
      "execution_count": 6,
      "id": "c527f08c-ab92-45ee-a80c-c16cf88887eb",
      "metadata": {
        "id": "c527f08c-ab92-45ee-a80c-c16cf88887eb"
      },
      "outputs": [],
      "source": []
    },
    {
      "cell_type": "markdown",
      "id": "311e3d2e",
      "metadata": {
        "id": "311e3d2e"
      },
      "source": [
        "### 2.7 Máximo y mínimo de `Volume`"
      ]
    },
    {
      "cell_type": "code",
      "execution_count": 7,
      "id": "9d73db8b",
      "metadata": {
        "id": "9d73db8b",
        "outputId": "85554201-4610-4d0d-b068-549f2909bd13",
        "colab": {
          "base_uri": "https://localhost:8080/"
        }
      },
      "outputs": [
        {
          "output_type": "stream",
          "name": "stdout",
          "text": [
            "+----------+----------+\n",
            "|Max_Volume|Min_Volume|\n",
            "+----------+----------+\n",
            "|  80898100|   2094900|\n",
            "+----------+----------+\n",
            "\n"
          ]
        }
      ],
      "source": [
        "from pyspark.sql.functions import max, min\n",
        "df.select(max(\"Volume\").alias(\"Max_Volume\"), min(\"Volume\").alias(\"Min_Volume\")).show()"
      ]
    },
    {
      "cell_type": "markdown",
      "id": "ddb1bdcf",
      "metadata": {
        "id": "ddb1bdcf"
      },
      "source": [
        "### 2.8 ¿Cuántos días tuvieron `Close < 60`?"
      ]
    },
    {
      "cell_type": "code",
      "execution_count": 8,
      "id": "72a4eafe",
      "metadata": {
        "id": "72a4eafe",
        "outputId": "24f37584-0f29-4db5-a8cf-ec8e2f34b683",
        "colab": {
          "base_uri": "https://localhost:8080/"
        }
      },
      "outputs": [
        {
          "output_type": "execute_result",
          "data": {
            "text/plain": [
              "81"
            ]
          },
          "metadata": {},
          "execution_count": 8
        }
      ],
      "source": [
        "df.filter(df[\"Close\"] < 60).count()"
      ]
    },
    {
      "cell_type": "markdown",
      "id": "47a4df27",
      "metadata": {
        "id": "47a4df27"
      },
      "source": [
        "### 2.9 Crée la columna `Tasa_HV = High/Volume`"
      ]
    },
    {
      "cell_type": "code",
      "execution_count": 9,
      "id": "0829902a",
      "metadata": {
        "id": "0829902a",
        "outputId": "74ddd1fb-8cdf-49aa-ef7f-9fdbfc971944",
        "colab": {
          "base_uri": "https://localhost:8080/"
        }
      },
      "outputs": [
        {
          "output_type": "stream",
          "name": "stdout",
          "text": [
            "+----------+---------+--------+--------------------+\n",
            "|      Date|     High|  Volume|             Tasa_HV|\n",
            "+----------+---------+--------+--------------------+\n",
            "|2012-01-03|61.060001|12668800|4.819714653321546E-6|\n",
            "|2012-01-04|60.349998| 9593300|6.290848613094555E-6|\n",
            "|2012-01-05|59.619999|12768200|4.669412994783916E-6|\n",
            "|2012-01-06|59.450001| 8069400|7.367338463826307E-6|\n",
            "|2012-01-09|59.549999| 6679300|8.915604778943901E-6|\n",
            "+----------+---------+--------+--------------------+\n",
            "only showing top 5 rows\n",
            "\n"
          ]
        }
      ],
      "source": [
        "from pyspark.sql.functions import col\n",
        "df = df.withColumn(\"Tasa_HV\", col(\"High\") / col(\"Volume\"))\n",
        "df.select(\"Date\", \"High\", \"Volume\", \"Tasa_HV\").show(5)"
      ]
    },
    {
      "cell_type": "markdown",
      "id": "91d90513",
      "metadata": {
        "id": "91d90513"
      },
      "source": [
        "### 2.10 ¿Qué porcentaje del tiempo `High > 80`?"
      ]
    },
    {
      "cell_type": "code",
      "execution_count": 10,
      "id": "69b5e558",
      "metadata": {
        "id": "69b5e558",
        "outputId": "bfa85aae-6a42-47da-adf2-c34d12851de4",
        "colab": {
          "base_uri": "https://localhost:8080/"
        }
      },
      "outputs": [
        {
          "output_type": "stream",
          "name": "stdout",
          "text": [
            "Porcentaje de días con High > 80: 9.14%\n"
          ]
        }
      ],
      "source": [
        "total_count = df.count()\n",
        "high_gt_80_count = df.filter(df[\"High\"] > 80).count()\n",
        "porcentaje = (high_gt_80_count / total_count) * 100\n",
        "print(f\"Porcentaje de días con High > 80: {porcentaje:.2f}%\")\n"
      ]
    },
    {
      "cell_type": "markdown",
      "id": "f57ee1dd",
      "metadata": {
        "id": "f57ee1dd"
      },
      "source": [
        "### 2.11 Correlación de Pearson entre `High` y `Volume` + interpretación"
      ]
    },
    {
      "cell_type": "code",
      "execution_count": 11,
      "id": "84a5c76a",
      "metadata": {
        "id": "84a5c76a",
        "outputId": "635b1f5d-d0b5-4fde-ab83-5dc1b797a766",
        "colab": {
          "base_uri": "https://localhost:8080/"
        }
      },
      "outputs": [
        {
          "output_type": "execute_result",
          "data": {
            "text/plain": [
              "-0.3384326061737161"
            ]
          },
          "metadata": {},
          "execution_count": 11
        }
      ],
      "source": [
        "df.stat.corr(\"High\", \"Volume\")"
      ]
    },
    {
      "cell_type": "markdown",
      "id": "fad6d42b",
      "metadata": {
        "id": "fad6d42b"
      },
      "source": [
        "*(Escriba aquí una interpretación breve del signo y magnitud de la correlación)*"
      ]
    },
    {
      "cell_type": "markdown",
      "id": "978e6d94",
      "metadata": {
        "id": "978e6d94"
      },
      "source": [
        "### 2.12 ¿Qué día tuvo el **precio más alto** (`High`)? Devuelva la fila completa"
      ]
    },
    {
      "cell_type": "code",
      "execution_count": 12,
      "id": "bb8a8ed6",
      "metadata": {
        "id": "bb8a8ed6",
        "outputId": "f356e51a-5b98-4a05-cf8c-24dbdb572874",
        "colab": {
          "base_uri": "https://localhost:8080/"
        }
      },
      "outputs": [
        {
          "output_type": "stream",
          "name": "stdout",
          "text": [
            "+----------+---------+---------+-----+---------+-------+---------+--------------------+\n",
            "|      Date|     Open|     High|  Low|    Close| Volume|Adj Close|             Tasa_HV|\n",
            "+----------+---------+---------+-----+---------+-------+---------+--------------------+\n",
            "|2015-01-13|90.800003|90.970001|88.93|89.309998|8215400|83.825448|1.107310672639189...|\n",
            "+----------+---------+---------+-----+---------+-------+---------+--------------------+\n",
            "only showing top 1 row\n",
            "\n"
          ]
        }
      ],
      "source": [
        "df.orderBy(df[\"High\"].desc()).show(1)"
      ]
    },
    {
      "cell_type": "markdown",
      "id": "61337e44",
      "metadata": {
        "id": "61337e44"
      },
      "source": [
        "### 2.13 **Media** de la columna `Close`"
      ]
    },
    {
      "cell_type": "code",
      "execution_count": 13,
      "id": "d9bb18c3",
      "metadata": {
        "id": "d9bb18c3",
        "outputId": "cabec009-c383-4c14-8bc2-753caee51f56",
        "colab": {
          "base_uri": "https://localhost:8080/"
        }
      },
      "outputs": [
        {
          "output_type": "stream",
          "name": "stdout",
          "text": [
            "+-----------------+\n",
            "|      Media_Close|\n",
            "+-----------------+\n",
            "|72.38844998012726|\n",
            "+-----------------+\n",
            "\n"
          ]
        }
      ],
      "source": [
        "from pyspark.sql.functions import avg\n",
        "df.select(avg(\"Close\").alias(\"Media_Close\")).show()"
      ]
    },
    {
      "cell_type": "markdown",
      "id": "1eaa741f",
      "metadata": {
        "id": "1eaa741f"
      },
      "source": [
        "### 2.14 **Máximo `High` por año**"
      ]
    },
    {
      "cell_type": "code",
      "execution_count": 14,
      "id": "ab7e4ce6",
      "metadata": {
        "id": "ab7e4ce6",
        "outputId": "7511ca2f-e2a1-485d-8437-1eae85f595fd",
        "colab": {
          "base_uri": "https://localhost:8080/"
        }
      },
      "outputs": [
        {
          "output_type": "stream",
          "name": "stdout",
          "text": [
            "+----+---------+\n",
            "|Year|max(High)|\n",
            "+----+---------+\n",
            "|2012|77.599998|\n",
            "|2013|81.370003|\n",
            "|2014|88.089996|\n",
            "|2015|90.970001|\n",
            "|2016|75.190002|\n",
            "+----+---------+\n",
            "\n"
          ]
        }
      ],
      "source": [
        "from pyspark.sql.functions import year\n",
        "df = df.withColumn(\"Year\", year(\"Date\"))\n",
        "df.groupBy(\"Year\").max(\"High\").orderBy(\"Year\").show()"
      ]
    },
    {
      "cell_type": "code",
      "execution_count": 16,
      "id": "7a776f58",
      "metadata": {
        "id": "7a776f58",
        "outputId": "16192c98-24a3-4182-ae5d-075ee8360c77",
        "colab": {
          "base_uri": "https://localhost:8080/",
          "height": 565
        }
      },
      "outputs": [
        {
          "output_type": "display_data",
          "data": {
            "text/plain": [
              "<Figure size 1200x600 with 1 Axes>"
            ],
            "image/png": "[encoded data removed]"
          },
          "metadata": {}
        }
      ],
      "source": [
        "import matplotlib.pyplot as plt\n",
        "import pandas as pd\n",
        "\n",
        "pdf = df.select(\"Date\", \"Close\").toPandas()\n",
        "pdf[\"Date\"] = pd.to_datetime(pdf[\"Date\"])\n",
        "plt.figure(figsize=(12,6))\n",
        "plt.plot(pdf[\"Date\"], pdf[\"Close\"])\n",
        "plt.title(\"Evolución del precio de cierre de Walmart\")\n",
        "plt.xlabel(\"Fecha\")\n",
        "plt.ylabel(\"Precio de cierre\")\n",
        "plt.grid(True)\n",
        "plt.show()"
      ]
    },
    {
      "cell_type": "markdown",
      "id": "846fa50f",
      "metadata": {
        "id": "846fa50f"
      },
      "source": [
        "## 3) Conclusiones (5–10 líneas)"
      ]
    },
    {
      "cell_type": "markdown",
      "id": "fcdad48c",
      "metadata": {
        "id": "fcdad48c"
      },
      "source": [
        "*Escriba aquí sus principales hallazgos e interpretaciones.*"
      ]
    },
    {
      "cell_type": "markdown",
      "id": "ca4963c8",
      "metadata": {
        "id": "ca4963c8"
      },
      "source": [
        "## Buenas prácticas\n",
        "- Comente bloques no triviales.\n",
        "- Nombres de variables **claros** (`df_prices`, `max_high_year`, etc.).\n",
        "- Reutilice resultados intermedios para evitar recalcular.\n",
        "- Si usa Colab, fije versiones cuando sea necesario.\n",
        "- Cierre la sesión de Spark al final si corre local: `spark.stop()`.\n"
      ]
    },
    {
      "cell_type": "markdown",
      "id": "5663a977",
      "metadata": {
        "id": "5663a977"
      },
      "source": [
        "## Errores comunes\n",
        "- Olvidar `inferSchema=True` → todo se carga como `string`.\n",
        "- Mezclar API RDD con DataFrames sin necesidad.\n",
        "- Usar funciones de Python puras en `withColumn` (use `pyspark.sql.functions`).\n",
        "- Intentar graficar DataFrames de Spark directamente: primero **convierta** a Pandas con `.toPandas()` en subconjuntos pequeños.\n"
      ]
    },
    {
      "cell_type": "markdown",
      "id": "0d651d75",
      "metadata": {
        "id": "0d651d75"
      },
      "source": [
        "## Rúbrica de evaluación (100 puntos)\n",
        "**A. Preparación del ambiente** (10 pts)\n",
        "- (10) SparkSession creada sin errores; versiones y entorno claros.\n",
        "\n",
        "**B. Carga y documentación de datos** (15 pts)\n",
        "- (8) CSV cargado con `header` y `inferSchema` correctos.\n",
        "- (7) Comentarios breves sobre las columnas y supuestos.\n",
        "\n",
        "**C. Exploración básica** (10 pts)\n",
        "- (4) Lista de columnas.\n",
        "- (3) `printSchema()` bien interpretado.\n",
        "- (3) `show(5)` con observaciones puntuales.\n",
        "\n",
        "**D. Descriptivos** (10 pts)\n",
        "- (6) `describe()` ejecutado y leído correctamente.\n",
        "- (4) Al menos 2 interpretaciones numéricas.\n",
        "\n",
        "**E. Agregaciones y filtros** (10 pts)\n",
        "- (5) Máx./mín. de `Volume` correctos.\n",
        "- (5) Conteo de días con `Close < 60` correcto.\n",
        "\n",
        "**F. Ingeniería de características** (10 pts)\n",
        "- (8) Columna `Tasa_HV = High/Volume` correcta y con tipo numérico.\n",
        "- (2) Justificación breve del indicador.\n",
        "\n",
        "**G. Métricas estadísticas** (10 pts)\n",
        "- (7) Correlación `High`–`Volume` calculada.\n",
        "- (3) Interpretación del valor (signo y magnitud).\n",
        "\n",
        "**H. Consultas temporales** (10 pts)\n",
        "- (5) Día con `High` máximo identificado.\n",
        "- (5) Máximo `High` por año con agrupación y orden correctos.\n",
        "\n",
        "**I. Comunicación de resultados** (10 pts)\n",
        "- (6) Conclusiones finales claras y concisas (5–10 líneas).\n",
        "- (4) Orden, legibilidad y limpieza del notebook.\n",
        "\n",
        "**J. Estilo y calidad de código** (5 pts)\n",
        "- (5) Convenciones PEP8 razonables, nombres significativos y ausencia de código muerto.\n",
        "\n",
        "> **Total: 100 puntos**\n"
      ]
    }
  ],
  "metadata": {
    "kernelspec": {
      "display_name": "Python 3",
      "language": "python",
      "name": "python3"
    },
    "language_info": {
      "codemirror_mode": {
        "name": "ipython",
        "version": 3
      },
      "file_extension": ".py",
      "mimetype": "text/x-python",
      "name": "python",
      "nbconvert_exporter": "python",
      "pygments_lexer": "ipython3",
      "version": "3.13.7"
    },
    "colab": {
      "provenance": []
    }
  },
  "nbformat": 4,
  "nbformat_minor": 5
}